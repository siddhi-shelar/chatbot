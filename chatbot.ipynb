{
  "nbformat": 4,
  "nbformat_minor": 0,
  "metadata": {
    "colab": {
      "provenance": []
    },
    "kernelspec": {
      "name": "python3",
      "display_name": "Python 3"
    },
    "language_info": {
      "name": "python"
    }
  },
  "cells": [
    {
      "cell_type": "code",
      "execution_count": 1,
      "metadata": {
        "colab": {
          "base_uri": "https://localhost:8080/"
        },
        "id": "W8fltYq4wrUW",
        "outputId": "2afb21f0-88c4-4294-b079-adf76892228f"
      },
      "outputs": [
        {
          "output_type": "stream",
          "name": "stdout",
          "text": [
            "Requirement already satisfied: requests in /usr/local/lib/python3.11/dist-packages (2.32.3)\n",
            "Requirement already satisfied: charset-normalizer<4,>=2 in /usr/local/lib/python3.11/dist-packages (from requests) (3.4.1)\n",
            "Requirement already satisfied: idna<4,>=2.5 in /usr/local/lib/python3.11/dist-packages (from requests) (3.10)\n",
            "Requirement already satisfied: urllib3<3,>=1.21.1 in /usr/local/lib/python3.11/dist-packages (from requests) (2.4.0)\n",
            "Requirement already satisfied: certifi>=2017.4.17 in /usr/local/lib/python3.11/dist-packages (from requests) (2025.4.26)\n"
          ]
        }
      ],
      "source": [
        "!pip install requests\n"
      ]
    },
    {
      "cell_type": "code",
      "source": [
        "import requests\n",
        "\n",
        "# Replace this with your OpenRouter API key\n",
        "api_key = \"sk....\"\n",
        "\n",
        "def chat_with_openrouter(prompt):\n",
        "    headers = {\n",
        "        \"Authorization\": f\"Bearer {api_key}\",\n",
        "        \"Content-Type\": \"application/json\",\n",
        "        \"HTTP-Referer\": \"https://openrouter.ai\",  # Required\n",
        "        \"X-Title\": \"Colab Chatbot\",  # Optional\n",
        "    }\n",
        "\n",
        "    data = {\n",
        "        \"model\": \"openai/gpt-3.5-turbo\",  # You can change to \"mistralai/mistral-7b-instruct\" etc.\n",
        "        \"messages\": [\n",
        "            {\"role\": \"user\", \"content\": prompt}\n",
        "        ]\n",
        "    }\n",
        "\n",
        "    response = requests.post(\"https://openrouter.ai/api/v1/chat/completions\", headers=headers, json=data)\n",
        "    return response.json()['choices'][0]['message']['content'].strip()\n",
        "\n",
        "# Simple chat loop\n",
        "while True:\n",
        "    user_input = input(\"You: \")\n",
        "    if user_input.lower() in [\"quit\", \"exit\", \"bye\"]:\n",
        "        break\n",
        "    reply = chat_with_openrouter(user_input)\n",
        "    print(\"Bot:\", reply)\n"
      ],
      "metadata": {
        "colab": {
          "base_uri": "https://localhost:8080/"
        },
        "id": "n7GJl60Fw-XK",
        "outputId": "79d130d7-bc2a-408a-d51a-2be36c5abe3d"
      },
      "execution_count": 2,
      "outputs": [
        {
          "name": "stdout",
          "output_type": "stream",
          "text": [
            "You: hii\n",
            "Bot: Hello! How can I assist you today?\n",
            "You: do you know srk?\n",
            "Bot: Yes, I am familiar with Shah Rukh Khan, also known as SRK, who is a popular Indian actor and film producer in Bollywood.\n",
            "You: who is  writer of  \"sham chi Aai\"?\n",
            "Bot: The writer of \"Sham Chi Aai\" is Marathi author Sane Guruji.\n",
            "You: will it rain today?\n",
            "Bot: I'm sorry, I am not able to provide real-time weather updates. Please use a weather website or app to check the current forecast for your area.\n",
            "You: tell me about hugging face ai\n",
            "Bot: Hugging Face is a company and an AI research platform that focuses on natural language processing and conversational AI. The company is known for developing and maintaining the open-source Transformers library which provides pre-trained models for various NLP tasks such as text classification, language translation, and text generation.\n",
            "\n",
            "Hugging Face's mission is to democratize AI by making state-of-the-art NLP models accessible to developers and researchers through their easy-to-use libraries and APIs. They also offer a range of tools and services for training and fine-tuning models, as well as a community platform where users can share and collaborate on NLP projects.\n",
            "\n",
            "Overall, Hugging Face AI is a widely recognized platform in the AI community for its contributions to the field of NLP and its commitment to making AI technology more accessible to all.\n",
            "You: do you make food today?\n",
            "Bot: I don't have the ability to physically cook food, but I can definitely help you with recipes or cooking tips if you need any!\n",
            "You: tell me how to make dokala?\n",
            "Bot: To make dokala, you will need the following ingredients:\n",
            "\n",
            "- 1 cup chickpea flour (besan)\n",
            "- 1/4 cup yogurt\n",
            "- 1/4 teaspoon turmeric powder\n",
            "- 1/2 teaspoon red chili powder\n",
            "- 1 teaspoon ginger-green chili paste\n",
            "- Salt to taste\n",
            "- 1 teaspoon fruit salt (eno)\n",
            "- 1 tablespoon oil\n",
            "- 1 tablespoon mustard seeds\n",
            "- A few curry leaves\n",
            "- 2-3 tablespoons chopped coriander leaves\n",
            "- Grated coconut for garnishing\n",
            "\n",
            "Here's how you can make dokala:\n",
            "\n",
            "1. In a large mixing bowl, combine the chickpea flour, yogurt, turmeric powder, red chili powder, ginger-green chili paste, and salt. Mix well to form a smooth batter. Add a little water if necessary to achieve a pouring consistency.\n",
            "\n",
            "2. Grease a steaming plate or tray with oil and set it aside.\n",
            "\n",
            "3. Heat water in a steamer or a large pot.\n",
            "\n",
            "4. Just before steaming, add fruit salt to the batter and gently mix it in. The batter will become frothy.\n",
            "\n",
            "5. Immediately pour the batter into the greased plate and place it in the steamer. Steam for about 15-20 minutes or until the dokala is cooked through.\n",
            "\n",
            "6. In a small pan, heat oil and add mustard seeds. Let them splutter and then add curry leaves. Pour this tempering over the steamed dokala.\n",
            "\n",
            "7. Cut the dokala into squares or diamonds and garnish with chopped coriander leaves and grated coconut.\n",
            "\n",
            "8. Serve hot with green chutney or tamarind chutney.\n",
            "\n",
            "Enjoy your homemade dokala!\n",
            "You: who is Siddhi Shelar\n",
            "Bot: Siddhi Shelar is a classical Indian dancer and choreographer based in Mumbai, India. She is known for her expertise in Kathak, a traditional dance form of India. Siddhi has performed at various prestigious events and has won several awards for her dance performances.\n",
            "You: thank you\n",
            "Bot: You're welcome! If you have any other questions or need assistance, feel free to ask.\n",
            "You: bye\n"
          ]
        }
      ]
    }
  ]
}
